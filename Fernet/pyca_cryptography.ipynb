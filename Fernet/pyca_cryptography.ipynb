{
 "cells": [
  {
   "cell_type": "markdown",
   "source": [
    "# pyca/cryptography\n",
    "---\n",
    "\n",
    "`pyca/cryptography` ist eine Python Library, welche `Fernet`, einen symmetrischen Verschlüsselungsalgorithmus, welcher auf AES basiert, beinhaltet, sowie weitere andere Kryptographie-Tools. "
   ],
   "metadata": {}
  },
  {
   "cell_type": "markdown",
   "source": [
    "Um die Library brauchen zu können, müssen wir sie zuerst mit `pip` installieren:\n",
    "```shell\n",
    "$ pip install cryptography\n",
    "```"
   ],
   "metadata": {}
  },
  {
   "cell_type": "markdown",
   "source": [
    "Danach müssen wir `Fernet` importieren:"
   ],
   "metadata": {}
  },
  {
   "cell_type": "code",
   "execution_count": 1,
   "source": [
    "from cryptography.fernet import Fernet"
   ],
   "outputs": [],
   "metadata": {}
  },
  {
   "cell_type": "markdown",
   "source": [
    " "
   ],
   "metadata": {}
  },
  {
   "cell_type": "markdown",
   "source": [
    "Als Nächstes erstellen wir einen `key` und stellen ihn `Fernet` zur Verfügung:"
   ],
   "metadata": {}
  },
  {
   "cell_type": "code",
   "execution_count": 2,
   "source": [
    "key = Fernet.generate_key() # Diesen Schlüssel teilt man geheim mit dem Empfänger.\r\n",
    "print(key)\r\n",
    "\r\n",
    "f = Fernet(key)"
   ],
   "outputs": [
    {
     "output_type": "stream",
     "name": "stdout",
     "text": [
      "b'uDqf8aJM_h-I_tBcS8A8VpqqAQoyI8MNUQzh1ZZxJvI='\n"
     ]
    }
   ],
   "metadata": {}
  },
  {
   "cell_type": "markdown",
   "source": [
    " "
   ],
   "metadata": {}
  },
  {
   "cell_type": "markdown",
   "source": [
    "Nun können wir eine Nachricht verschlüsseln. Wichtig ist, das wir die Nachricht als Bytes speichern:"
   ],
   "metadata": {}
  },
  {
   "cell_type": "code",
   "execution_count": 3,
   "source": [
    "message = b\"Eine geheime Nachricht\"\r\n",
    "\r\n",
    "encryptedMessage = f.encrypt(message)\r\n",
    "print(\"Verschlüsselte Nachricht:\", encryptedMessage)"
   ],
   "outputs": [
    {
     "output_type": "stream",
     "name": "stdout",
     "text": [
      "Verschlüsselte Nachricht: b'gAAAAABgOsEDPqAbVR78fv4bwY0bpFS9BBz4jER3O1gVdPjD810AXDGiyIwArnBzZOtXRTp-Rd8JSnuynmQ52xKFEVGyNYFQon5soDuuaKOWY4AWkkGR1UY='\n"
     ]
    }
   ],
   "metadata": {}
  },
  {
   "cell_type": "markdown",
   "source": [
    " "
   ],
   "metadata": {}
  },
  {
   "cell_type": "markdown",
   "source": [
    "Der Empfänger kann die Nachricht entschlüsseln, indem er seinem `Fernet-Objekt` den ihm mitgeilten Schlüssel zur Verfügung stellt:"
   ],
   "metadata": {}
  },
  {
   "cell_type": "code",
   "execution_count": 4,
   "source": [
    "f2 = Fernet(key)\r\n",
    "\r\n",
    "decryptedMessage = f2.decrypt(encryptedMessage)\r\n",
    "print(\"Entschlüsselte Nachricht: '\" + str(decryptedMessage, encoding=\"utf-8\") + \"'\")"
   ],
   "outputs": [
    {
     "output_type": "stream",
     "name": "stdout",
     "text": [
      "Entschlüsselte Nachricht: 'Eine geheime Nachricht'\n"
     ]
    }
   ],
   "metadata": {}
  }
 ],
 "metadata": {
  "kernelspec": {
   "display_name": "Python 3",
   "language": "python",
   "name": "python3"
  },
  "language_info": {
   "codemirror_mode": {
    "name": "ipython",
    "version": 3
   },
   "file_extension": ".py",
   "mimetype": "text/x-python",
   "name": "python",
   "nbconvert_exporter": "python",
   "pygments_lexer": "ipython3",
   "version": "3.8.5"
  }
 },
 "nbformat": 4,
 "nbformat_minor": 5
}